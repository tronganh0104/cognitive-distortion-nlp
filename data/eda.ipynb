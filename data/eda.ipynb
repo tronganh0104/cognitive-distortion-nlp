{
 "cells": [
  {
   "cell_type": "code",
   "execution_count": 1,
   "id": "f0e44a36",
   "metadata": {},
   "outputs": [],
   "source": [
    "import pandas as pd\n",
    "import matplotlib.pyplot as plt\n",
    "import seaborn as sns\n",
    "from sklearn.model_selection import train_test_split\n"
   ]
  },
  {
   "cell_type": "code",
   "execution_count": 4,
   "id": "f945b791",
   "metadata": {},
   "outputs": [
    {
     "data": {
      "text/html": [
       "<div>\n",
       "<style scoped>\n",
       "    .dataframe tbody tr th:only-of-type {\n",
       "        vertical-align: middle;\n",
       "    }\n",
       "\n",
       "    .dataframe tbody tr th {\n",
       "        vertical-align: top;\n",
       "    }\n",
       "\n",
       "    .dataframe thead th {\n",
       "        text-align: right;\n",
       "    }\n",
       "</style>\n",
       "<table border=\"1\" class=\"dataframe\">\n",
       "  <thead>\n",
       "    <tr style=\"text-align: right;\">\n",
       "      <th></th>\n",
       "      <th>Original Text</th>\n",
       "      <th>Label</th>\n",
       "      <th>Emotional Reasoning</th>\n",
       "      <th>Overgeneralization</th>\n",
       "      <th>Should Statements</th>\n",
       "      <th>Personalization</th>\n",
       "      <th>Mental Filter</th>\n",
       "      <th>Disqualifying the Positive</th>\n",
       "      <th>Jumping to Conclusions</th>\n",
       "      <th>Labeling and Mislabeling</th>\n",
       "      <th>Magnification and Minimization</th>\n",
       "      <th>All-or-Nothing Thinking</th>\n",
       "    </tr>\n",
       "  </thead>\n",
       "  <tbody>\n",
       "    <tr>\n",
       "      <th>0</th>\n",
       "      <td>Cô ấy luôn có những hành động kỳ lạ, ví dụ như...</td>\n",
       "      <td>0</td>\n",
       "      <td>0</td>\n",
       "      <td>0</td>\n",
       "      <td>0</td>\n",
       "      <td>0</td>\n",
       "      <td>0</td>\n",
       "      <td>0</td>\n",
       "      <td>0</td>\n",
       "      <td>0</td>\n",
       "      <td>0</td>\n",
       "      <td>0</td>\n",
       "    </tr>\n",
       "    <tr>\n",
       "      <th>1</th>\n",
       "      <td>Nếu bố mẹ tôi biết tôi đang vật lộn thế nào, h...</td>\n",
       "      <td>1</td>\n",
       "      <td>0</td>\n",
       "      <td>0</td>\n",
       "      <td>0</td>\n",
       "      <td>0</td>\n",
       "      <td>0</td>\n",
       "      <td>0</td>\n",
       "      <td>1</td>\n",
       "      <td>0</td>\n",
       "      <td>0</td>\n",
       "      <td>0</td>\n",
       "    </tr>\n",
       "    <tr>\n",
       "      <th>2</th>\n",
       "      <td>Trong năm thứ 4 và thứ 5 của sự nghiệp, tôi kh...</td>\n",
       "      <td>1</td>\n",
       "      <td>0</td>\n",
       "      <td>0</td>\n",
       "      <td>0</td>\n",
       "      <td>0</td>\n",
       "      <td>0</td>\n",
       "      <td>0</td>\n",
       "      <td>0</td>\n",
       "      <td>0</td>\n",
       "      <td>0</td>\n",
       "      <td>1</td>\n",
       "    </tr>\n",
       "    <tr>\n",
       "      <th>3</th>\n",
       "      <td>Tôi muốn bị ốm, và tôi biết điều đó thật khủng...</td>\n",
       "      <td>0</td>\n",
       "      <td>0</td>\n",
       "      <td>0</td>\n",
       "      <td>0</td>\n",
       "      <td>0</td>\n",
       "      <td>0</td>\n",
       "      <td>0</td>\n",
       "      <td>0</td>\n",
       "      <td>0</td>\n",
       "      <td>0</td>\n",
       "      <td>0</td>\n",
       "    </tr>\n",
       "    <tr>\n",
       "      <th>4</th>\n",
       "      <td>Trước khi chúng tôi bắt đầu hẹn hò và trong nă...</td>\n",
       "      <td>0</td>\n",
       "      <td>0</td>\n",
       "      <td>0</td>\n",
       "      <td>0</td>\n",
       "      <td>0</td>\n",
       "      <td>0</td>\n",
       "      <td>0</td>\n",
       "      <td>0</td>\n",
       "      <td>0</td>\n",
       "      <td>0</td>\n",
       "      <td>0</td>\n",
       "    </tr>\n",
       "  </tbody>\n",
       "</table>\n",
       "</div>"
      ],
      "text/plain": [
       "                                       Original Text  Label  \\\n",
       "0  Cô ấy luôn có những hành động kỳ lạ, ví dụ như...      0   \n",
       "1  Nếu bố mẹ tôi biết tôi đang vật lộn thế nào, h...      1   \n",
       "2  Trong năm thứ 4 và thứ 5 của sự nghiệp, tôi kh...      1   \n",
       "3  Tôi muốn bị ốm, và tôi biết điều đó thật khủng...      0   \n",
       "4  Trước khi chúng tôi bắt đầu hẹn hò và trong nă...      0   \n",
       "\n",
       "   Emotional Reasoning  Overgeneralization  Should Statements  \\\n",
       "0                    0                   0                  0   \n",
       "1                    0                   0                  0   \n",
       "2                    0                   0                  0   \n",
       "3                    0                   0                  0   \n",
       "4                    0                   0                  0   \n",
       "\n",
       "   Personalization  Mental Filter  Disqualifying the Positive  \\\n",
       "0                0              0                           0   \n",
       "1                0              0                           0   \n",
       "2                0              0                           0   \n",
       "3                0              0                           0   \n",
       "4                0              0                           0   \n",
       "\n",
       "   Jumping to Conclusions  Labeling and Mislabeling  \\\n",
       "0                       0                         0   \n",
       "1                       1                         0   \n",
       "2                       0                         0   \n",
       "3                       0                         0   \n",
       "4                       0                         0   \n",
       "\n",
       "   Magnification and Minimization  All-or-Nothing Thinking  \n",
       "0                               0                        0  \n",
       "1                               0                        0  \n",
       "2                               0                        1  \n",
       "3                               0                        0  \n",
       "4                               0                        0  "
      ]
     },
     "execution_count": 4,
     "metadata": {},
     "output_type": "execute_result"
    }
   ],
   "source": [
    "# Load dữ liệu\n",
    "df = pd.read_csv('combined_data.csv', encoding='utf-8')  # Đảm bảo UTF-8 cho tiếng Việt\n",
    "\n",
    "# Kiểm tra cơ bản\n",
    "df.head()\n"
   ]
  },
  {
   "cell_type": "code",
   "execution_count": 5,
   "id": "7266876d",
   "metadata": {},
   "outputs": [
    {
     "name": "stdout",
     "output_type": "stream",
     "text": [
      "<class 'pandas.core.frame.DataFrame'>\n",
      "RangeIndex: 20092 entries, 0 to 20091\n",
      "Data columns (total 12 columns):\n",
      " #   Column                          Non-Null Count  Dtype \n",
      "---  ------                          --------------  ----- \n",
      " 0   Original Text                   20092 non-null  object\n",
      " 1   Label                           20092 non-null  int64 \n",
      " 2   Emotional Reasoning             20092 non-null  int64 \n",
      " 3   Overgeneralization              20092 non-null  int64 \n",
      " 4   Should Statements               20092 non-null  int64 \n",
      " 5   Personalization                 20092 non-null  int64 \n",
      " 6   Mental Filter                   20092 non-null  int64 \n",
      " 7   Disqualifying the Positive      20092 non-null  int64 \n",
      " 8   Jumping to Conclusions          20092 non-null  int64 \n",
      " 9   Labeling and Mislabeling        20092 non-null  int64 \n",
      " 10  Magnification and Minimization  20092 non-null  int64 \n",
      " 11  All-or-Nothing Thinking         20092 non-null  int64 \n",
      "dtypes: int64(11), object(1)\n",
      "memory usage: 1.8+ MB\n"
     ]
    }
   ],
   "source": [
    "df.info()"
   ]
  },
  {
   "cell_type": "code",
   "execution_count": 9,
   "id": "0bb89bdf",
   "metadata": {},
   "outputs": [
    {
     "data": {
      "text/plain": [
       "Label\n",
       "1    15030\n",
       "0     5062\n",
       "Name: count, dtype: int64"
      ]
     },
     "execution_count": 9,
     "metadata": {},
     "output_type": "execute_result"
    }
   ],
   "source": [
    "df['Label'].value_counts()"
   ]
  },
  {
   "cell_type": "code",
   "execution_count": 10,
   "id": "5d195d87",
   "metadata": {},
   "outputs": [
    {
     "data": {
      "text/plain": [
       "Label\n",
       "1    0.748059\n",
       "0    0.251941\n",
       "Name: proportion, dtype: float64"
      ]
     },
     "execution_count": 10,
     "metadata": {},
     "output_type": "execute_result"
    }
   ],
   "source": [
    "df['Label'].value_counts(normalize=True)"
   ]
  },
  {
   "cell_type": "code",
   "execution_count": 11,
   "id": "7912c5f6",
   "metadata": {},
   "outputs": [
    {
     "name": "stdout",
     "output_type": "stream",
     "text": [
      "\n",
      "Phân bố nhãn multi-label:\n",
      "Emotional Reasoning: 1223 samples (6.09%)\n",
      "Overgeneralization: 1422 samples (7.08%)\n",
      "Should Statements: 1053 samples (5.24%)\n",
      "Personalization: 1215 samples (6.05%)\n",
      "Mental Filter: 1144 samples (5.69%)\n",
      "Disqualifying the Positive: 1244 samples (6.19%)\n",
      "Jumping to Conclusions: 3095 samples (15.40%)\n",
      "Labeling and Mislabeling: 3021 samples (15.04%)\n",
      "Magnification and Minimization: 1123 samples (5.59%)\n",
      "All-or-Nothing Thinking: 1241 samples (6.18%)\n"
     ]
    }
   ],
   "source": [
    "multi_label_columns = ['Emotional Reasoning', 'Overgeneralization', 'Should Statements', \n",
    "                       'Personalization', 'Mental Filter', 'Disqualifying the Positive', \n",
    "                       'Jumping to Conclusions', 'Labeling and Mislabeling', \n",
    "                       'Magnification and Minimization', 'All-or-Nothing Thinking']\n",
    "print(\"\\nPhân bố nhãn multi-label:\")\n",
    "for col in multi_label_columns:\n",
    "    print(f\"{col}: {df[col].sum()} samples ({df[col].mean():.2%})\")"
   ]
  },
  {
   "cell_type": "code",
   "execution_count": 12,
   "id": "bf9e02cd",
   "metadata": {},
   "outputs": [
    {
     "data": {
      "image/png": "[encoded data removed]",
      "text/plain": [
       "<Figure size 640x480 with 1 Axes>"
      ]
     },
     "metadata": {},
     "output_type": "display_data"
    }
   ],
   "source": [
    "df['text_length'] = df['Original Text'].apply(lambda x: len(x.split()))\n",
    "sns.histplot(df['text_length'], bins=30, kde=True)\n",
    "plt.title('Phân Bố Độ Dài Văn Bản (Số Từ)')\n",
    "plt.xlabel('Số Từ')\n",
    "plt.ylabel('Số Mẫu')\n",
    "plt.show()\n"
   ]
  },
  {
   "cell_type": "code",
   "execution_count": 13,
   "id": "849702ce",
   "metadata": {},
   "outputs": [
    {
     "name": "stdout",
     "output_type": "stream",
     "text": [
      "Kích thước: Train 16073, Val 2009, Test 2010\n"
     ]
    }
   ],
   "source": [
    "train_df, temp_df = train_test_split(df, test_size=0.2, stratify=df['Label'], random_state=42)\n",
    "val_df, test_df = train_test_split(temp_df, test_size=0.5, stratify=temp_df['Label'], random_state=42)\n",
    "print(f\"Kích thước: Train {len(train_df)}, Val {len(val_df)}, Test {len(test_df)}\")"
   ]
  },
  {
   "cell_type": "code",
   "execution_count": 14,
   "id": "1702700a",
   "metadata": {},
   "outputs": [],
   "source": [
    "train_df.to_csv('./process/train.csv', index=False, encoding='utf-8')\n",
    "val_df.to_csv('./process/val.csv', index=False, encoding='utf-8')\n",
    "test_df.to_csv('./process/test.csv', index=False, encoding='utf-8')"
   ]
  },
  {
   "cell_type": "code",
   "execution_count": null,
   "id": "4e1e1d05",
   "metadata": {},
   "outputs": [],
   "source": []
  }
 ],
 "metadata": {
  "kernelspec": {
   "display_name": "Python 3",
   "language": "python",
   "name": "python3"
  },
  "language_info": {
   "codemirror_mode": {
    "name": "ipython",
    "version": 3
   },
   "file_extension": ".py",
   "mimetype": "text/x-python",
   "name": "python",
   "nbconvert_exporter": "python",
   "pygments_lexer": "ipython3",
   "version": "3.12.2"
  }
 },
 "nbformat": 4,
 "nbformat_minor": 5
}
