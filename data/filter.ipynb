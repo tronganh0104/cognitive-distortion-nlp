{
 "cells": [
  {
   "cell_type": "code",
   "execution_count": 1,
   "id": "106e3c1d",
   "metadata": {},
   "outputs": [],
   "source": [
    "import pandas as pd\n",
    "\n",
    "# Đọc dữ liệu từ file CSV\n",
    "# Thay 'data.csv' bằng tên file thật của bạn\n",
    "df = pd.read_csv('Combined_Data.csv')\n",
    "\n",
    "# Lọc ra những dòng có Label = 1\n",
    "filtered_df = df[df['Label'] == 1]\n",
    "filtered_df_2 = df[df['Label'] == 0]\n",
    "\n",
    "# (Tùy chọn) Lưu lại thành file mới\n",
    "filtered_df.to_csv('process/label1.csv', index=False)\n",
    "filtered_df_2.to_csv('process/label0.csv', index=False)"
   ]
  }
 ],
 "metadata": {
  "kernelspec": {
   "display_name": "Python 3",
   "language": "python",
   "name": "python3"
  },
  "language_info": {
   "codemirror_mode": {
    "name": "ipython",
    "version": 3
   },
   "file_extension": ".py",
   "mimetype": "text/x-python",
   "name": "python",
   "nbconvert_exporter": "python",
   "pygments_lexer": "ipython3",
   "version": "3.12.2"
  }
 },
 "nbformat": 4,
 "nbformat_minor": 5
}
