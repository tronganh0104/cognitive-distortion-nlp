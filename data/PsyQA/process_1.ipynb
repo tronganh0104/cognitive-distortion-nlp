{
 "cells": [
  {
   "cell_type": "code",
   "execution_count": 1,
   "id": "e94b9bb1",
   "metadata": {},
   "outputs": [
    {
     "data": {
      "text/html": [
       "<div>\n",
       "<style scoped>\n",
       "    .dataframe tbody tr th:only-of-type {\n",
       "        vertical-align: middle;\n",
       "    }\n",
       "\n",
       "    .dataframe tbody tr th {\n",
       "        vertical-align: top;\n",
       "    }\n",
       "\n",
       "    .dataframe thead th {\n",
       "        text-align: right;\n",
       "    }\n",
       "</style>\n",
       "<table border=\"1\" class=\"dataframe\">\n",
       "  <thead>\n",
       "    <tr style=\"text-align: right;\">\n",
       "      <th></th>\n",
       "      <th>Original Text</th>\n",
       "      <th>Label</th>\n",
       "    </tr>\n",
       "  </thead>\n",
       "  <tbody>\n",
       "    <tr>\n",
       "      <th>0</th>\n",
       "      <td>Tôi không có kinh nghiệm đặc biệt nào.</td>\n",
       "      <td>1</td>\n",
       "    </tr>\n",
       "    <tr>\n",
       "      <th>1</th>\n",
       "      <td>Có lẽ là do áp lực công việc?</td>\n",
       "      <td>0</td>\n",
       "    </tr>\n",
       "    <tr>\n",
       "      <th>2</th>\n",
       "      <td>Làm thế nào để chết không đau đớn?</td>\n",
       "      <td>0</td>\n",
       "    </tr>\n",
       "    <tr>\n",
       "      <th>3</th>\n",
       "      <td>Có rất nhiều điều muốn làm, cứ nghĩ mãi mà khô...</td>\n",
       "      <td>0</td>\n",
       "    </tr>\n",
       "    <tr>\n",
       "      <th>4</th>\n",
       "      <td>À, sắp đến kỳ thi cuối kỳ rồi, còn phải đối mặ...</td>\n",
       "      <td>0</td>\n",
       "    </tr>\n",
       "    <tr>\n",
       "      <th>...</th>\n",
       "      <td>...</td>\n",
       "      <td>...</td>\n",
       "    </tr>\n",
       "    <tr>\n",
       "      <th>3920</th>\n",
       "      <td>Làm việc luôn lo lắng mình làm không tốt, sợ g...</td>\n",
       "      <td>1</td>\n",
       "    </tr>\n",
       "    <tr>\n",
       "      <th>3921</th>\n",
       "      <td>Tất cả mọi chuyện đều không thể quyết định dứt...</td>\n",
       "      <td>1</td>\n",
       "    </tr>\n",
       "    <tr>\n",
       "      <th>3922</th>\n",
       "      <td>Mấy ngày nay không kiểm soát được cảm xúc, chá...</td>\n",
       "      <td>1</td>\n",
       "    </tr>\n",
       "    <tr>\n",
       "      <th>3923</th>\n",
       "      <td>Tự nhận thấy độ phù hợp hơn 8 phần, nhưng vẫn ...</td>\n",
       "      <td>1</td>\n",
       "    </tr>\n",
       "    <tr>\n",
       "      <th>3924</th>\n",
       "      <td>Cảm thấy mình không có giá trị, vô dụng. Lại đ...</td>\n",
       "      <td>1</td>\n",
       "    </tr>\n",
       "  </tbody>\n",
       "</table>\n",
       "<p>3925 rows × 2 columns</p>\n",
       "</div>"
      ],
      "text/plain": [
       "                                          Original Text  Label\n",
       "0                Tôi không có kinh nghiệm đặc biệt nào.      1\n",
       "1                         Có lẽ là do áp lực công việc?      0\n",
       "2                    Làm thế nào để chết không đau đớn?      0\n",
       "3     Có rất nhiều điều muốn làm, cứ nghĩ mãi mà khô...      0\n",
       "4     À, sắp đến kỳ thi cuối kỳ rồi, còn phải đối mặ...      0\n",
       "...                                                 ...    ...\n",
       "3920  Làm việc luôn lo lắng mình làm không tốt, sợ g...      1\n",
       "3921  Tất cả mọi chuyện đều không thể quyết định dứt...      1\n",
       "3922  Mấy ngày nay không kiểm soát được cảm xúc, chá...      1\n",
       "3923  Tự nhận thấy độ phù hợp hơn 8 phần, nhưng vẫn ...      1\n",
       "3924  Cảm thấy mình không có giá trị, vô dụng. Lại đ...      1\n",
       "\n",
       "[3925 rows x 2 columns]"
      ]
     },
     "execution_count": 1,
     "metadata": {},
     "output_type": "execute_result"
    }
   ],
   "source": [
    "import pandas as pd \n",
    "\n",
    "df = pd.read_csv('PsyQA_Trans.csv')\n",
    "df"
   ]
  },
  {
   "cell_type": "code",
   "execution_count": 2,
   "id": "24054bc4",
   "metadata": {},
   "outputs": [
    {
     "data": {
      "text/plain": [
       "Label\n",
       "0    2120\n",
       "1    1805\n",
       "Name: count, dtype: int64"
      ]
     },
     "execution_count": 2,
     "metadata": {},
     "output_type": "execute_result"
    }
   ],
   "source": [
    "df['Label'].value_counts()"
   ]
  },
  {
   "cell_type": "code",
   "execution_count": 3,
   "id": "408a65cf",
   "metadata": {},
   "outputs": [],
   "source": [
    "df_label1 = df[df[\"Label\"] == 1]\n",
    "df_label0 = df[df[\"Label\"] == 0]\n",
    "\n",
    "# Lưu sang file mới (ví dụ: label1.csv)\n",
    "df_label1.to_csv(\"label1.csv\", index=False)\n",
    "df_label0.to_csv(\"label0.csv\", index=False)"
   ]
  },
  {
   "cell_type": "code",
   "execution_count": null,
   "id": "af82cf6c",
   "metadata": {},
   "outputs": [],
   "source": []
  }
 ],
 "metadata": {
  "kernelspec": {
   "display_name": "Python 3",
   "language": "python",
   "name": "python3"
  },
  "language_info": {
   "codemirror_mode": {
    "name": "ipython",
    "version": 3
   },
   "file_extension": ".py",
   "mimetype": "text/x-python",
   "name": "python",
   "nbconvert_exporter": "python",
   "pygments_lexer": "ipython3",
   "version": "3.12.2"
  }
 },
 "nbformat": 4,
 "nbformat_minor": 5
}
