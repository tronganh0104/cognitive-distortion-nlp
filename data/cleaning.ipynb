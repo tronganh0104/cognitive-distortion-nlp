{
 "cells": [
  {
   "cell_type": "code",
   "execution_count": 1,
   "id": "492a9303",
   "metadata": {},
   "outputs": [],
   "source": [
    "import pandas as pd\n",
    "import re\n",
    "from underthesea import word_tokenize"
   ]
  },
  {
   "cell_type": "code",
   "execution_count": 2,
   "id": "0bb4c5ae",
   "metadata": {},
   "outputs": [],
   "source": [
    "def clean_text(text):\n",
    "    text = text.lower()  # Chuyển lowercase\n",
    "    text = re.sub(r'[^\\w\\s]', ' ', text)  # Thay dấu câu bằng khoảng trắng\n",
    "    text = re.sub(r'\\s+', ' ', text).strip()  # Loại khoảng trắng thừa\n",
    "    text = word_tokenize(text, format='text')  # Phân từ\n",
    "    return text"
   ]
  },
  {
   "cell_type": "code",
   "execution_count": 4,
   "id": "441ed6c7",
   "metadata": {},
   "outputs": [],
   "source": [
    "# Load các tập đã split\n",
    "train_df = pd.read_csv('./process/train.csv', encoding='utf-8')\n",
    "val_df = pd.read_csv('./process/val.csv', encoding='utf-8')\n",
    "test_df = pd.read_csv('./process/test.csv', encoding='utf-8')\n",
    "\n",
    "# Áp dụng làm sạch cho cả 3 tập\n",
    "train_df['clean_text'] = train_df['Original Text'].apply(clean_text)\n",
    "val_df['clean_text'] = val_df['Original Text'].apply(clean_text)\n",
    "test_df['clean_text'] = test_df['Original Text'].apply(clean_text)"
   ]
  },
  {
   "cell_type": "code",
   "execution_count": 6,
   "id": "f80472fd",
   "metadata": {},
   "outputs": [
    {
     "name": "stdout",
     "output_type": "stream",
     "text": [
      "Train - Trước và Sau Làm Sạch:\n",
      "\n"
     ]
    },
    {
     "data": {
      "text/html": [
       "<div>\n",
       "<style scoped>\n",
       "    .dataframe tbody tr th:only-of-type {\n",
       "        vertical-align: middle;\n",
       "    }\n",
       "\n",
       "    .dataframe tbody tr th {\n",
       "        vertical-align: top;\n",
       "    }\n",
       "\n",
       "    .dataframe thead th {\n",
       "        text-align: right;\n",
       "    }\n",
       "</style>\n",
       "<table border=\"1\" class=\"dataframe\">\n",
       "  <thead>\n",
       "    <tr style=\"text-align: right;\">\n",
       "      <th></th>\n",
       "      <th>Original Text</th>\n",
       "      <th>clean_text</th>\n",
       "    </tr>\n",
       "  </thead>\n",
       "  <tbody>\n",
       "    <tr>\n",
       "      <th>0</th>\n",
       "      <td>Khi tôi đã chuẩn bị sẵn sàng để rời nhà, mẹ tô...</td>\n",
       "      <td>khi tôi đã chuẩn_bị sẵn_sàng để rời nhà mẹ tôi...</td>\n",
       "    </tr>\n",
       "    <tr>\n",
       "      <th>1</th>\n",
       "      <td>Ghét bản thân như thế này, nhưng lại không thể...</td>\n",
       "      <td>ghét bản_thân như thế_này nhưng lại không_thể ...</td>\n",
       "    </tr>\n",
       "    <tr>\n",
       "      <th>2</th>\n",
       "      <td>Tôi chắc chắn nếu chúng tôi sống cùng nhau thì...</td>\n",
       "      <td>tôi chắc_chắn nếu chúng_tôi sống cùng nhau thì...</td>\n",
       "    </tr>\n",
       "    <tr>\n",
       "      <th>3</th>\n",
       "      <td>Tôi không phải là một đứa trẻ xinh đẹp, tôi cả...</td>\n",
       "      <td>tôi không phải là một đứa trẻ xinh_đẹp tôi cảm...</td>\n",
       "    </tr>\n",
       "    <tr>\n",
       "      <th>4</th>\n",
       "      <td>Các loại áp lực lớn, khi cảm thấy mệt mỏi, sẽ ...</td>\n",
       "      <td>các loại áp_lực lớn khi cảm_thấy mệt_mỏi sẽ kh...</td>\n",
       "    </tr>\n",
       "  </tbody>\n",
       "</table>\n",
       "</div>"
      ],
      "text/plain": [
       "                                       Original Text  \\\n",
       "0  Khi tôi đã chuẩn bị sẵn sàng để rời nhà, mẹ tô...   \n",
       "1  Ghét bản thân như thế này, nhưng lại không thể...   \n",
       "2  Tôi chắc chắn nếu chúng tôi sống cùng nhau thì...   \n",
       "3  Tôi không phải là một đứa trẻ xinh đẹp, tôi cả...   \n",
       "4  Các loại áp lực lớn, khi cảm thấy mệt mỏi, sẽ ...   \n",
       "\n",
       "                                          clean_text  \n",
       "0  khi tôi đã chuẩn_bị sẵn_sàng để rời nhà mẹ tôi...  \n",
       "1  ghét bản_thân như thế_này nhưng lại không_thể ...  \n",
       "2  tôi chắc_chắn nếu chúng_tôi sống cùng nhau thì...  \n",
       "3  tôi không phải là một đứa trẻ xinh_đẹp tôi cảm...  \n",
       "4  các loại áp_lực lớn khi cảm_thấy mệt_mỏi sẽ kh...  "
      ]
     },
     "execution_count": 6,
     "metadata": {},
     "output_type": "execute_result"
    }
   ],
   "source": [
    "print(\"Train - Trước và Sau Làm Sạch:\\n\")\n",
    "train_df[['Original Text', 'clean_text']].head(5)"
   ]
  },
  {
   "cell_type": "code",
   "execution_count": 7,
   "id": "40c3e528",
   "metadata": {},
   "outputs": [],
   "source": [
    "train_df.to_csv('./process/train_cleaned.csv', index=False, encoding='utf-8')\n",
    "val_df.to_csv('./process/val_cleaned.csv', index=False, encoding='utf-8')\n",
    "test_df.to_csv('./process/test_cleaned.csv', index=False, encoding='utf-8')"
   ]
  },
  {
   "cell_type": "code",
   "execution_count": null,
   "id": "71574ebe",
   "metadata": {},
   "outputs": [],
   "source": []
  }
 ],
 "metadata": {
  "kernelspec": {
   "display_name": "Python 3",
   "language": "python",
   "name": "python3"
  },
  "language_info": {
   "codemirror_mode": {
    "name": "ipython",
    "version": 3
   },
   "file_extension": ".py",
   "mimetype": "text/x-python",
   "name": "python",
   "nbconvert_exporter": "python",
   "pygments_lexer": "ipython3",
   "version": "3.12.2"
  }
 },
 "nbformat": 4,
 "nbformat_minor": 5
}
