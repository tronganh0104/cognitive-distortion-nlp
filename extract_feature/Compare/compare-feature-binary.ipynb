{
 "cells": [
  {
   "cell_type": "code",
   "execution_count": 1,
   "id": "f00a42e1",
   "metadata": {
    "_cell_guid": "b1076dfc-b9ad-4769-8c92-a6c4dae69d19",
    "_uuid": "8f2839f25d086af736a60e9eeb907d3b93b6e0e5",
    "execution": {
     "iopub.execute_input": "2025-10-27T14:07:57.412759Z",
     "iopub.status.busy": "2025-10-27T14:07:57.412492Z",
     "iopub.status.idle": "2025-10-27T14:08:01.068520Z",
     "shell.execute_reply": "2025-10-27T14:08:01.067704Z"
    },
    "papermill": {
     "duration": 3.663072,
     "end_time": "2025-10-27T14:08:01.070229",
     "exception": false,
     "start_time": "2025-10-27T14:07:57.407157",
     "status": "completed"
    },
    "tags": []
   },
   "outputs": [],
   "source": [
    "import pandas as pd\n",
    "import numpy as np\n",
    "import matplotlib.pyplot as plt\n",
    "import seaborn as sns\n",
    "from sklearn.model_selection import train_test_split\n",
    "from sklearn.preprocessing import StandardScaler\n",
    "from sklearn.linear_model import LogisticRegression\n",
    "from sklearn.ensemble import RandomForestClassifier\n",
    "from sklearn.metrics import accuracy_score, f1_score, classification_report\n",
    "import warnings\n",
    "warnings.filterwarnings('ignore')"
   ]
  },
  {
   "cell_type": "code",
   "execution_count": 2,
   "id": "e5a03e5a",
   "metadata": {
    "execution": {
     "iopub.execute_input": "2025-10-27T14:08:01.075300Z",
     "iopub.status.busy": "2025-10-27T14:08:01.074983Z",
     "iopub.status.idle": "2025-10-27T14:08:01.078877Z",
     "shell.execute_reply": "2025-10-27T14:08:01.078344Z"
    },
    "papermill": {
     "duration": 0.007616,
     "end_time": "2025-10-27T14:08:01.080112",
     "exception": false,
     "start_time": "2025-10-27T14:08:01.072496",
     "status": "completed"
    },
    "tags": []
   },
   "outputs": [],
   "source": [
    "feature_files = {\n",
    "    \"Lexical\": \"/kaggle/input/cogdis-data/lexical_features.csv\",\n",
    "    \"Syntactic\": \"/kaggle/input/cogdis-data/syntactic_features.csv\",\n",
    "    \"Sentiment\": \"/kaggle/input/cogdis-data/Sentiment Emotion Features.csv\",\n",
    "    \"Interaction\": \"/kaggle/input/cogdis-data/Interaction_features.csv\",\n",
    "    \"Semantic\": \"/kaggle/input/cogdis-data/Semantic_features_phobert_10bias.csv\"\n",
    "}\n",
    "\n",
    "drop_cols = [\n",
    "    'Original Text','clean_text',\n",
    "    'Emotional Reasoning','Overgeneralization','Should Statements',\n",
    "    'Personalization','Mental Filter','Disqualifying the Positive',\n",
    "    'Jumping to Conclusions','Labeling and Mislabeling',\n",
    "    'Magnification and Minimization','All-or-Nothing Thinking','Label'\n",
    "]"
   ]
  },
  {
   "cell_type": "code",
   "execution_count": 3,
   "id": "3b8b582f",
   "metadata": {
    "execution": {
     "iopub.execute_input": "2025-10-27T14:08:01.085617Z",
     "iopub.status.busy": "2025-10-27T14:08:01.085408Z",
     "iopub.status.idle": "2025-10-27T14:08:01.091204Z",
     "shell.execute_reply": "2025-10-27T14:08:01.090609Z"
    },
    "papermill": {
     "duration": 0.009852,
     "end_time": "2025-10-27T14:08:01.092268",
     "exception": false,
     "start_time": "2025-10-27T14:08:01.082416",
     "status": "completed"
    },
    "tags": []
   },
   "outputs": [],
   "source": [
    "def safe_label_extract(df):\n",
    "    \"\"\"Tìm cột Label (không phân biệt hoa thường)\"\"\"\n",
    "    label_cols = [c for c in df.columns if c.lower() == 'label']\n",
    "    if len(label_cols) == 0:\n",
    "        return None\n",
    "    return df[label_cols[0]]\n",
    "\n",
    "def encode_categorical_columns(X):\n",
    "    \"\"\"Mã hóa các cột dạng chuỗi\"\"\"\n",
    "    for col in X.columns:\n",
    "        if X[col].dtype == 'object':\n",
    "            unique_vals = X[col].nunique()\n",
    "            if unique_vals <= 10:\n",
    "                X = pd.concat([X.drop(columns=[col]), pd.get_dummies(X[col], prefix=col)], axis=1)\n",
    "            else:\n",
    "                le = LabelEncoder()\n",
    "                X[col] = le.fit_transform(X[col].astype(str))\n",
    "    return X\n",
    "\n",
    "def evaluate_model(X_train, X_test, y_train, y_test, model, model_name):\n",
    "    model.fit(X_train, y_train)\n",
    "    y_pred = model.predict(X_test)\n",
    "    acc = accuracy_score(y_test, y_pred)\n",
    "    f1 = f1_score(y_test, y_pred)\n",
    "    return acc, f1\n"
   ]
  },
  {
   "cell_type": "code",
   "execution_count": 4,
   "id": "badcbeca",
   "metadata": {
    "execution": {
     "iopub.execute_input": "2025-10-27T14:08:01.096308Z",
     "iopub.status.busy": "2025-10-27T14:08:01.096115Z",
     "iopub.status.idle": "2025-10-27T14:08:04.416255Z",
     "shell.execute_reply": "2025-10-27T14:08:04.415369Z"
    },
    "papermill": {
     "duration": 3.323798,
     "end_time": "2025-10-27T14:08:04.417774",
     "exception": false,
     "start_time": "2025-10-27T14:08:01.093976",
     "status": "completed"
    },
    "tags": []
   },
   "outputs": [],
   "source": [
    "lexical_ref = pd.read_csv(feature_files[\"Lexical\"])[[\"Original Text\", \"Label\"]]"
   ]
  },
  {
   "cell_type": "code",
   "execution_count": 5,
   "id": "1acee584",
   "metadata": {
    "execution": {
     "iopub.execute_input": "2025-10-27T14:08:04.422585Z",
     "iopub.status.busy": "2025-10-27T14:08:04.422351Z",
     "iopub.status.idle": "2025-10-27T14:08:04.428753Z",
     "shell.execute_reply": "2025-10-27T14:08:04.428008Z"
    },
    "papermill": {
     "duration": 0.010016,
     "end_time": "2025-10-27T14:08:04.429813",
     "exception": false,
     "start_time": "2025-10-27T14:08:04.419797",
     "status": "completed"
    },
    "tags": []
   },
   "outputs": [],
   "source": [
    "def evaluate_featureset(name, path):\n",
    "    print(f\"\\n📂 Đang xử lý: {name}\")\n",
    "    df = pd.read_csv(path)\n",
    "\n",
    "    # Nếu không có cột Label thì ghép từ file Lexical\n",
    "    y = safe_label_extract(df)\n",
    "    if y is None:\n",
    "        df = df.merge(lexical_ref, on=\"Original Text\", how=\"left\")\n",
    "        y = df[\"Label\"]\n",
    "\n",
    "    X = df.drop(columns=drop_cols, errors='ignore')\n",
    "\n",
    "    # Encode và chuẩn hóa\n",
    "    X = encode_categorical_columns(X)\n",
    "    X = X.apply(pd.to_numeric, errors='coerce').fillna(0)\n",
    "\n",
    "    scaler = StandardScaler()\n",
    "    X_scaled = scaler.fit_transform(X)\n",
    "\n",
    "    X_train, X_test, y_train, y_test = train_test_split(\n",
    "        X_scaled, y, test_size=0.2, random_state=42, stratify=y\n",
    "    )\n",
    "\n",
    "    models = {\n",
    "        \"Logistic Regression\": LogisticRegression(max_iter=2000),\n",
    "        \"Random Forest\": RandomForestClassifier(n_estimators=200, random_state=42)\n",
    "    }\n",
    "\n",
    "    results = []\n",
    "    for model_name, model in models.items():\n",
    "        acc, f1 = evaluate_model(X_train, X_test, y_train, y_test, model, model_name)\n",
    "        print(f\"✅ {name} | {model_name} → Acc: {acc:.3f}, F1: {f1:.3f}\")\n",
    "        results.append({\n",
    "            \"Feature Set\": name,\n",
    "            \"Model\": model_name,\n",
    "            \"Accuracy\": acc,\n",
    "            \"F1-score\": f1\n",
    "        })\n",
    "    return results"
   ]
  },
  {
   "cell_type": "code",
   "execution_count": 6,
   "id": "e995edae",
   "metadata": {
    "execution": {
     "iopub.execute_input": "2025-10-27T14:08:04.434338Z",
     "iopub.status.busy": "2025-10-27T14:08:04.433716Z",
     "iopub.status.idle": "2025-10-27T14:08:39.098148Z",
     "shell.execute_reply": "2025-10-27T14:08:39.097279Z"
    },
    "papermill": {
     "duration": 34.669695,
     "end_time": "2025-10-27T14:08:39.101236",
     "exception": false,
     "start_time": "2025-10-27T14:08:04.431541",
     "status": "completed"
    },
    "tags": []
   },
   "outputs": [
    {
     "name": "stdout",
     "output_type": "stream",
     "text": [
      "\n",
      "📂 Đang xử lý: Lexical\n",
      "✅ Lexical | Logistic Regression → Acc: 0.803, F1: 0.875\n",
      "✅ Lexical | Random Forest → Acc: 0.799, F1: 0.878\n",
      "\n",
      "📂 Đang xử lý: Syntactic\n",
      "✅ Syntactic | Logistic Regression → Acc: 0.782, F1: 0.877\n",
      "✅ Syntactic | Random Forest → Acc: 0.775, F1: 0.869\n",
      "\n",
      "📂 Đang xử lý: Sentiment\n",
      "✅ Sentiment | Logistic Regression → Acc: 0.748, F1: 0.856\n",
      "✅ Sentiment | Random Forest → Acc: 0.699, F1: 0.811\n",
      "\n",
      "📂 Đang xử lý: Interaction\n",
      "✅ Interaction | Logistic Regression → Acc: 0.743, F1: 0.852\n",
      "✅ Interaction | Random Forest → Acc: 0.736, F1: 0.837\n",
      "\n",
      "📂 Đang xử lý: Semantic\n",
      "✅ Semantic | Logistic Regression → Acc: 0.754, F1: 0.854\n",
      "✅ Semantic | Random Forest → Acc: 0.765, F1: 0.857\n",
      "\n",
      "=== 📈 KẾT QUẢ TỔNG HỢP ===\n",
      "   Feature Set                Model  Accuracy  F1-score\n",
      "0      Lexical  Logistic Regression  0.802936  0.875000\n",
      "1      Lexical        Random Forest  0.799453  0.878468\n",
      "2    Syntactic  Logistic Regression  0.781678  0.877463\n",
      "3    Syntactic        Random Forest  0.775471  0.868924\n",
      "4    Sentiment  Logistic Regression  0.747947  0.855801\n",
      "5    Sentiment        Random Forest  0.698930  0.810937\n",
      "6  Interaction  Logistic Regression  0.743220  0.852318\n",
      "7  Interaction        Random Forest  0.736004  0.836543\n",
      "8     Semantic  Logistic Regression  0.754417  0.853929\n",
      "9     Semantic        Random Forest  0.765116  0.856970\n"
     ]
    }
   ],
   "source": [
    "all_results = []\n",
    "for name, path in feature_files.items():\n",
    "    try:\n",
    "        res = evaluate_featureset(name, path)\n",
    "        all_results.extend(res)\n",
    "    except Exception as e:\n",
    "        print(f\"❌ Lỗi khi xử lý {name}: {e}\")\n",
    "\n",
    "df_results = pd.DataFrame(all_results)\n",
    "print(\"\\n=== 📈 KẾT QUẢ TỔNG HỢP ===\")\n",
    "print(df_results)"
   ]
  },
  {
   "cell_type": "code",
   "execution_count": 7,
   "id": "9c27c6c0",
   "metadata": {
    "execution": {
     "iopub.execute_input": "2025-10-27T14:08:39.106374Z",
     "iopub.status.busy": "2025-10-27T14:08:39.106168Z",
     "iopub.status.idle": "2025-10-27T14:08:39.384754Z",
     "shell.execute_reply": "2025-10-27T14:08:39.384071Z"
    },
    "papermill": {
     "duration": 0.282516,
     "end_time": "2025-10-27T14:08:39.385980",
     "exception": false,
     "start_time": "2025-10-27T14:08:39.103464",
     "status": "completed"
    },
    "tags": []
   },
   "outputs": [
    {
     "data": {
      "image/png": "[encoded data removed]",
      "text/plain": [
       "<Figure size 1000x600 with 1 Axes>"
      ]
     },
     "metadata": {},
     "output_type": "display_data"
    }
   ],
   "source": [
    "plt.figure(figsize=(10,6))\n",
    "sns.barplot(data=df_results, x=\"Feature Set\", y=\"F1-score\", hue=\"Model\", palette=\"Set2\")\n",
    "plt.title(\"So sánh hiệu năng giữa các nhóm đặc trưng và mô hình\", fontsize=14)\n",
    "plt.ylabel(\"F1-score\")\n",
    "plt.legend(title=\"Mô hình\")\n",
    "plt.grid(axis='y', linestyle='--', alpha=0.7)\n",
    "plt.show()"
   ]
  },
  {
   "cell_type": "code",
   "execution_count": 8,
   "id": "d3543dba",
   "metadata": {
    "execution": {
     "iopub.execute_input": "2025-10-27T14:08:39.392602Z",
     "iopub.status.busy": "2025-10-27T14:08:39.392397Z",
     "iopub.status.idle": "2025-10-27T14:08:39.399525Z",
     "shell.execute_reply": "2025-10-27T14:08:39.398992Z"
    },
    "papermill": {
     "duration": 0.01149,
     "end_time": "2025-10-27T14:08:39.400555",
     "exception": false,
     "start_time": "2025-10-27T14:08:39.389065",
     "status": "completed"
    },
    "tags": []
   },
   "outputs": [],
   "source": [
    "df_results.to_csv(\"feature_model_comparison_results.csv\", index=False)"
   ]
  }
 ],
 "metadata": {
  "kaggle": {
   "accelerator": "nvidiaTeslaT4",
   "dataSources": [
    {
     "datasetId": 8525910,
     "sourceId": 13520187,
     "sourceType": "datasetVersion"
    }
   ],
   "dockerImageVersionId": 31154,
   "isGpuEnabled": true,
   "isInternetEnabled": true,
   "language": "python",
   "sourceType": "notebook"
  },
  "kernelspec": {
   "display_name": "Python 3",
   "language": "python",
   "name": "python3"
  },
  "language_info": {
   "codemirror_mode": {
    "name": "ipython",
    "version": 3
   },
   "file_extension": ".py",
   "mimetype": "text/x-python",
   "name": "python",
   "nbconvert_exporter": "python",
   "pygments_lexer": "ipython3",
   "version": "3.11.13"
  },
  "papermill": {
   "default_parameters": {},
   "duration": 46.330684,
   "end_time": "2025-10-27T14:08:39.820746",
   "environment_variables": {},
   "exception": null,
   "input_path": "__notebook__.ipynb",
   "output_path": "__notebook__.ipynb",
   "parameters": {},
   "start_time": "2025-10-27T14:07:53.490062",
   "version": "2.6.0"
  }
 },
 "nbformat": 4,
 "nbformat_minor": 5
}
