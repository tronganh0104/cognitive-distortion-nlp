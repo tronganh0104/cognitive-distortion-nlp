{
 "cells": [
  {
   "cell_type": "code",
   "execution_count": 1,
   "id": "d5f4d908",
   "metadata": {
    "_cell_guid": "b1076dfc-b9ad-4769-8c92-a6c4dae69d19",
    "_uuid": "8f2839f25d086af736a60e9eeb907d3b93b6e0e5",
    "execution": {
     "iopub.execute_input": "2025-10-27T09:45:36.905671Z",
     "iopub.status.busy": "2025-10-27T09:45:36.905439Z",
     "iopub.status.idle": "2025-10-27T09:45:43.847740Z",
     "shell.execute_reply": "2025-10-27T09:45:43.846877Z"
    },
    "papermill": {
     "duration": 6.94704,
     "end_time": "2025-10-27T09:45:43.849210",
     "exception": false,
     "start_time": "2025-10-27T09:45:36.902170",
     "status": "completed"
    },
    "tags": []
   },
   "outputs": [
    {
     "name": "stdout",
     "output_type": "stream",
     "text": [
      "\u001b[2K   \u001b[90m━━━━━━━━━━━━━━━━━━━━━━━━━━━━━━━━━━━━━━━━\u001b[0m \u001b[32m20.9/20.9 MB\u001b[0m \u001b[31m71.7 MB/s\u001b[0m eta \u001b[36m0:00:00\u001b[0m\r\n",
      "\u001b[2K   \u001b[90m━━━━━━━━━━━━━━━━━━━━━━━━━━━━━━━━━━━━━━━━\u001b[0m \u001b[32m657.8/657.8 kB\u001b[0m \u001b[31m22.2 MB/s\u001b[0m eta \u001b[36m0:00:00\u001b[0m\r\n",
      "\u001b[2K   \u001b[90m━━━━━━━━━━━━━━━━━━━━━━━━━━━━━━━━━━━━━━━━\u001b[0m \u001b[32m1.3/1.3 MB\u001b[0m \u001b[31m55.3 MB/s\u001b[0m eta \u001b[36m0:00:00\u001b[0m\r\n",
      "\u001b[?25h"
     ]
    }
   ],
   "source": [
    "!pip install underthesea==6.8.4 --quiet"
   ]
  },
  {
   "cell_type": "code",
   "execution_count": 2,
   "id": "7bd7a457",
   "metadata": {
    "execution": {
     "iopub.execute_input": "2025-10-27T09:45:43.855526Z",
     "iopub.status.busy": "2025-10-27T09:45:43.855306Z",
     "iopub.status.idle": "2025-10-27T09:46:06.719947Z",
     "shell.execute_reply": "2025-10-27T09:46:06.719282Z"
    },
    "papermill": {
     "duration": 22.869145,
     "end_time": "2025-10-27T09:46:06.721280",
     "exception": false,
     "start_time": "2025-10-27T09:45:43.852135",
     "status": "completed"
    },
    "tags": []
   },
   "outputs": [],
   "source": [
    "import pandas as pd\n",
    "import re\n",
    "from underthesea import sent_tokenize, word_tokenize"
   ]
  },
  {
   "cell_type": "code",
   "execution_count": 3,
   "id": "69bb1064",
   "metadata": {
    "execution": {
     "iopub.execute_input": "2025-10-27T09:46:06.727364Z",
     "iopub.status.busy": "2025-10-27T09:46:06.726858Z",
     "iopub.status.idle": "2025-10-27T09:46:07.231057Z",
     "shell.execute_reply": "2025-10-27T09:46:07.230050Z"
    },
    "papermill": {
     "duration": 0.508513,
     "end_time": "2025-10-27T09:46:07.232351",
     "exception": false,
     "start_time": "2025-10-27T09:46:06.723838",
     "status": "completed"
    },
    "tags": []
   },
   "outputs": [
    {
     "name": "stdout",
     "output_type": "stream",
     "text": [
      "Loaded 20092 rows\n"
     ]
    }
   ],
   "source": [
    "df = pd.read_csv(\"/kaggle/input/cogdis-data/Combined_Data.csv\")\n",
    "print(f\"Loaded {len(df)} rows\")"
   ]
  },
  {
   "cell_type": "code",
   "execution_count": 4,
   "id": "98e33e24",
   "metadata": {
    "execution": {
     "iopub.execute_input": "2025-10-27T09:46:07.237952Z",
     "iopub.status.busy": "2025-10-27T09:46:07.237724Z",
     "iopub.status.idle": "2025-10-27T09:46:07.395489Z",
     "shell.execute_reply": "2025-10-27T09:46:07.394747Z"
    },
    "papermill": {
     "duration": 0.161931,
     "end_time": "2025-10-27T09:46:07.396727",
     "exception": false,
     "start_time": "2025-10-27T09:46:07.234796",
     "status": "completed"
    },
    "tags": []
   },
   "outputs": [],
   "source": [
    "def count_turns(text):\n",
    "    if not isinstance(text, str): \n",
    "        return 1\n",
    "    # Mẫu regex nhận diện lượt nói\n",
    "    return len(re.findall(r\"(?:^|\\s)([A-ZĐƠÔƯỮẠ-ỹa-z]+:)\", text)) or 1\n",
    "\n",
    "df[\"turn_count\"] = df[\"Original Text\"].apply(count_turns)"
   ]
  },
  {
   "cell_type": "code",
   "execution_count": 5,
   "id": "4e00f25f",
   "metadata": {
    "execution": {
     "iopub.execute_input": "2025-10-27T09:46:07.402173Z",
     "iopub.status.busy": "2025-10-27T09:46:07.401916Z",
     "iopub.status.idle": "2025-10-27T09:46:08.091981Z",
     "shell.execute_reply": "2025-10-27T09:46:08.091109Z"
    },
    "papermill": {
     "duration": 0.694286,
     "end_time": "2025-10-27T09:46:08.093353",
     "exception": false,
     "start_time": "2025-10-27T09:46:07.399067",
     "status": "completed"
    },
    "tags": []
   },
   "outputs": [],
   "source": [
    "question_words = [\"tại sao\", \"phải chăng\", \"liệu\", \"sao\", \"vì sao\", \"có phải\", \"à\", \"ư\", \"hả\", \"chứ\"]\n",
    "\n",
    "def question_ratio(text):\n",
    "    if not isinstance(text, str): return 0\n",
    "    sentences = sent_tokenize(text)\n",
    "    if not sentences: return 0\n",
    "    question_sents = [s for s in sentences if \"?\" in s or any(q in s.lower() for q in question_words)]\n",
    "    return round(len(question_sents) / len(sentences), 3)\n",
    "\n",
    "df[\"question_ratio\"] = df[\"Original Text\"].apply(question_ratio)"
   ]
  },
  {
   "cell_type": "code",
   "execution_count": 6,
   "id": "fd9101f4",
   "metadata": {
    "execution": {
     "iopub.execute_input": "2025-10-27T09:46:08.103610Z",
     "iopub.status.busy": "2025-10-27T09:46:08.103339Z",
     "iopub.status.idle": "2025-10-27T09:46:08.957690Z",
     "shell.execute_reply": "2025-10-27T09:46:08.956837Z"
    },
    "papermill": {
     "duration": 0.861263,
     "end_time": "2025-10-27T09:46:08.959119",
     "exception": false,
     "start_time": "2025-10-27T09:46:08.097856",
     "status": "completed"
    },
    "tags": []
   },
   "outputs": [],
   "source": [
    "discourse_markers = [\"nhưng\", \"tuy nhiên\", \"mặc dù\", \"thế mà\", \"song\", \"trái lại\", \"dù vậy\", \"tuy thế\"]\n",
    "\n",
    "def discourse_marker_count(text):\n",
    "    if not isinstance(text, str): return 0\n",
    "    return sum(len(re.findall(rf\"\\b{w}\\b\", text.lower())) for w in discourse_markers)\n",
    "\n",
    "df[\"discourse_marker_count\"] = df[\"Original Text\"].apply(discourse_marker_count)"
   ]
  },
  {
   "cell_type": "code",
   "execution_count": 7,
   "id": "c2c8759e",
   "metadata": {
    "execution": {
     "iopub.execute_input": "2025-10-27T09:46:08.964877Z",
     "iopub.status.busy": "2025-10-27T09:46:08.964640Z",
     "iopub.status.idle": "2025-10-27T09:46:09.502734Z",
     "shell.execute_reply": "2025-10-27T09:46:09.502042Z"
    },
    "papermill": {
     "duration": 0.542415,
     "end_time": "2025-10-27T09:46:09.504061",
     "exception": false,
     "start_time": "2025-10-27T09:46:08.961646",
     "status": "completed"
    },
    "tags": []
   },
   "outputs": [],
   "source": [
    "self_refs = [\"tôi\", \"mình\", \"bản thân tôi\", \"chính tôi\", \"tự tôi\"]\n",
    "\n",
    "def self_reference_count(text):\n",
    "    if not isinstance(text, str): return 0\n",
    "    return sum(len(re.findall(rf\"\\b{w}\\b\", text.lower())) for w in self_refs)\n",
    "\n",
    "df[\"self_reference_count\"] = df[\"Original Text\"].apply(self_reference_count)"
   ]
  },
  {
   "cell_type": "code",
   "execution_count": 8,
   "id": "ae5e2b06",
   "metadata": {
    "execution": {
     "iopub.execute_input": "2025-10-27T09:46:09.509852Z",
     "iopub.status.busy": "2025-10-27T09:46:09.509591Z",
     "iopub.status.idle": "2025-10-27T09:46:47.063103Z",
     "shell.execute_reply": "2025-10-27T09:46:47.062477Z"
    },
    "papermill": {
     "duration": 37.557841,
     "end_time": "2025-10-27T09:46:47.064507",
     "exception": false,
     "start_time": "2025-10-27T09:46:09.506666",
     "status": "completed"
    },
    "tags": []
   },
   "outputs": [],
   "source": [
    "def avg_turn_length(text):\n",
    "    if not isinstance(text, str): return 0\n",
    "    turns = re.split(r\"(?:^|\\s)(?:[A-ZĐƠÔƯỮẠ-ỹa-z]+:)\", text)\n",
    "    turns = [t.strip() for t in turns if t.strip()]\n",
    "    word_counts = [len(word_tokenize(t)) for t in turns]\n",
    "    return round(sum(word_counts) / len(word_counts), 1) if word_counts else 0\n",
    "\n",
    "df[\"avg_turn_length\"] = df[\"Original Text\"].apply(avg_turn_length)"
   ]
  },
  {
   "cell_type": "code",
   "execution_count": 9,
   "id": "323790a4",
   "metadata": {
    "execution": {
     "iopub.execute_input": "2025-10-27T09:46:47.070618Z",
     "iopub.status.busy": "2025-10-27T09:46:47.070372Z",
     "iopub.status.idle": "2025-10-27T09:46:47.092113Z",
     "shell.execute_reply": "2025-10-27T09:46:47.091504Z"
    },
    "papermill": {
     "duration": 0.025844,
     "end_time": "2025-10-27T09:46:47.093143",
     "exception": false,
     "start_time": "2025-10-27T09:46:47.067299",
     "status": "completed"
    },
    "tags": []
   },
   "outputs": [
    {
     "data": {
      "text/html": [
       "<div>\n",
       "<style scoped>\n",
       "    .dataframe tbody tr th:only-of-type {\n",
       "        vertical-align: middle;\n",
       "    }\n",
       "\n",
       "    .dataframe tbody tr th {\n",
       "        vertical-align: top;\n",
       "    }\n",
       "\n",
       "    .dataframe thead th {\n",
       "        text-align: right;\n",
       "    }\n",
       "</style>\n",
       "<table border=\"1\" class=\"dataframe\">\n",
       "  <thead>\n",
       "    <tr style=\"text-align: right;\">\n",
       "      <th></th>\n",
       "      <th>Original Text</th>\n",
       "      <th>Label</th>\n",
       "      <th>Emotional Reasoning</th>\n",
       "      <th>Overgeneralization</th>\n",
       "      <th>Should Statements</th>\n",
       "      <th>Personalization</th>\n",
       "      <th>Mental Filter</th>\n",
       "      <th>Disqualifying the Positive</th>\n",
       "      <th>Jumping to Conclusions</th>\n",
       "      <th>Labeling and Mislabeling</th>\n",
       "      <th>Magnification and Minimization</th>\n",
       "      <th>All-or-Nothing Thinking</th>\n",
       "      <th>turn_count</th>\n",
       "      <th>question_ratio</th>\n",
       "      <th>discourse_marker_count</th>\n",
       "      <th>self_reference_count</th>\n",
       "      <th>avg_turn_length</th>\n",
       "    </tr>\n",
       "  </thead>\n",
       "  <tbody>\n",
       "    <tr>\n",
       "      <th>0</th>\n",
       "      <td>Cô ấy luôn có những hành động kỳ lạ, ví dụ như...</td>\n",
       "      <td>0</td>\n",
       "      <td>0</td>\n",
       "      <td>0</td>\n",
       "      <td>0</td>\n",
       "      <td>0</td>\n",
       "      <td>0</td>\n",
       "      <td>0</td>\n",
       "      <td>0</td>\n",
       "      <td>0</td>\n",
       "      <td>0</td>\n",
       "      <td>0</td>\n",
       "      <td>1</td>\n",
       "      <td>1.000</td>\n",
       "      <td>0</td>\n",
       "      <td>4</td>\n",
       "      <td>79.0</td>\n",
       "    </tr>\n",
       "    <tr>\n",
       "      <th>1</th>\n",
       "      <td>Nếu bố mẹ tôi biết tôi đang vật lộn thế nào, h...</td>\n",
       "      <td>1</td>\n",
       "      <td>0</td>\n",
       "      <td>0</td>\n",
       "      <td>0</td>\n",
       "      <td>0</td>\n",
       "      <td>0</td>\n",
       "      <td>0</td>\n",
       "      <td>1</td>\n",
       "      <td>0</td>\n",
       "      <td>0</td>\n",
       "      <td>0</td>\n",
       "      <td>1</td>\n",
       "      <td>1.000</td>\n",
       "      <td>0</td>\n",
       "      <td>4</td>\n",
       "      <td>30.0</td>\n",
       "    </tr>\n",
       "    <tr>\n",
       "      <th>2</th>\n",
       "      <td>Trong năm thứ 4 và thứ 5 của sự nghiệp, tôi kh...</td>\n",
       "      <td>1</td>\n",
       "      <td>0</td>\n",
       "      <td>0</td>\n",
       "      <td>0</td>\n",
       "      <td>0</td>\n",
       "      <td>0</td>\n",
       "      <td>0</td>\n",
       "      <td>0</td>\n",
       "      <td>0</td>\n",
       "      <td>0</td>\n",
       "      <td>1</td>\n",
       "      <td>1</td>\n",
       "      <td>1.000</td>\n",
       "      <td>0</td>\n",
       "      <td>6</td>\n",
       "      <td>78.0</td>\n",
       "    </tr>\n",
       "    <tr>\n",
       "      <th>3</th>\n",
       "      <td>Tôi muốn bị ốm, và tôi biết điều đó thật khủng...</td>\n",
       "      <td>0</td>\n",
       "      <td>0</td>\n",
       "      <td>0</td>\n",
       "      <td>0</td>\n",
       "      <td>0</td>\n",
       "      <td>0</td>\n",
       "      <td>0</td>\n",
       "      <td>0</td>\n",
       "      <td>0</td>\n",
       "      <td>0</td>\n",
       "      <td>0</td>\n",
       "      <td>1</td>\n",
       "      <td>1.000</td>\n",
       "      <td>1</td>\n",
       "      <td>4</td>\n",
       "      <td>19.0</td>\n",
       "    </tr>\n",
       "    <tr>\n",
       "      <th>4</th>\n",
       "      <td>Trước khi chúng tôi bắt đầu hẹn hò và trong nă...</td>\n",
       "      <td>0</td>\n",
       "      <td>0</td>\n",
       "      <td>0</td>\n",
       "      <td>0</td>\n",
       "      <td>0</td>\n",
       "      <td>0</td>\n",
       "      <td>0</td>\n",
       "      <td>0</td>\n",
       "      <td>0</td>\n",
       "      <td>0</td>\n",
       "      <td>0</td>\n",
       "      <td>1</td>\n",
       "      <td>0.333</td>\n",
       "      <td>0</td>\n",
       "      <td>2</td>\n",
       "      <td>39.0</td>\n",
       "    </tr>\n",
       "  </tbody>\n",
       "</table>\n",
       "</div>"
      ],
      "text/plain": [
       "                                       Original Text  Label  \\\n",
       "0  Cô ấy luôn có những hành động kỳ lạ, ví dụ như...      0   \n",
       "1  Nếu bố mẹ tôi biết tôi đang vật lộn thế nào, h...      1   \n",
       "2  Trong năm thứ 4 và thứ 5 của sự nghiệp, tôi kh...      1   \n",
       "3  Tôi muốn bị ốm, và tôi biết điều đó thật khủng...      0   \n",
       "4  Trước khi chúng tôi bắt đầu hẹn hò và trong nă...      0   \n",
       "\n",
       "   Emotional Reasoning  Overgeneralization  Should Statements  \\\n",
       "0                    0                   0                  0   \n",
       "1                    0                   0                  0   \n",
       "2                    0                   0                  0   \n",
       "3                    0                   0                  0   \n",
       "4                    0                   0                  0   \n",
       "\n",
       "   Personalization  Mental Filter  Disqualifying the Positive  \\\n",
       "0                0              0                           0   \n",
       "1                0              0                           0   \n",
       "2                0              0                           0   \n",
       "3                0              0                           0   \n",
       "4                0              0                           0   \n",
       "\n",
       "   Jumping to Conclusions  Labeling and Mislabeling  \\\n",
       "0                       0                         0   \n",
       "1                       1                         0   \n",
       "2                       0                         0   \n",
       "3                       0                         0   \n",
       "4                       0                         0   \n",
       "\n",
       "   Magnification and Minimization  All-or-Nothing Thinking  turn_count  \\\n",
       "0                               0                        0           1   \n",
       "1                               0                        0           1   \n",
       "2                               0                        1           1   \n",
       "3                               0                        0           1   \n",
       "4                               0                        0           1   \n",
       "\n",
       "   question_ratio  discourse_marker_count  self_reference_count  \\\n",
       "0           1.000                       0                     4   \n",
       "1           1.000                       0                     4   \n",
       "2           1.000                       0                     6   \n",
       "3           1.000                       1                     4   \n",
       "4           0.333                       0                     2   \n",
       "\n",
       "   avg_turn_length  \n",
       "0             79.0  \n",
       "1             30.0  \n",
       "2             78.0  \n",
       "3             19.0  \n",
       "4             39.0  "
      ]
     },
     "execution_count": 9,
     "metadata": {},
     "output_type": "execute_result"
    }
   ],
   "source": [
    "df.head(5)"
   ]
  },
  {
   "cell_type": "code",
   "execution_count": 10,
   "id": "8c255fd5",
   "metadata": {
    "execution": {
     "iopub.execute_input": "2025-10-27T09:46:47.099388Z",
     "iopub.status.busy": "2025-10-27T09:46:47.098928Z",
     "iopub.status.idle": "2025-10-27T09:46:47.290698Z",
     "shell.execute_reply": "2025-10-27T09:46:47.290025Z"
    },
    "papermill": {
     "duration": 0.196191,
     "end_time": "2025-10-27T09:46:47.292022",
     "exception": false,
     "start_time": "2025-10-27T09:46:47.095831",
     "status": "completed"
    },
    "tags": []
   },
   "outputs": [],
   "source": [
    "df.to_csv(\"Interaction_features.csv\", index=False)"
   ]
  }
 ],
 "metadata": {
  "kaggle": {
   "accelerator": "nvidiaTeslaT4",
   "dataSources": [
    {
     "datasetId": 8525910,
     "sourceId": 13516320,
     "sourceType": "datasetVersion"
    }
   ],
   "dockerImageVersionId": 31154,
   "isGpuEnabled": true,
   "isInternetEnabled": true,
   "language": "python",
   "sourceType": "notebook"
  },
  "kernelspec": {
   "display_name": "Python 3",
   "language": "python",
   "name": "python3"
  },
  "language_info": {
   "codemirror_mode": {
    "name": "ipython",
    "version": 3
   },
   "file_extension": ".py",
   "mimetype": "text/x-python",
   "name": "python",
   "nbconvert_exporter": "python",
   "pygments_lexer": "ipython3",
   "version": "3.11.13"
  },
  "papermill": {
   "default_parameters": {},
   "duration": 78.585031,
   "end_time": "2025-10-27T09:46:50.388891",
   "environment_variables": {},
   "exception": null,
   "input_path": "__notebook__.ipynb",
   "output_path": "__notebook__.ipynb",
   "parameters": {},
   "start_time": "2025-10-27T09:45:31.803860",
   "version": "2.6.0"
  }
 },
 "nbformat": 4,
 "nbformat_minor": 5
}
